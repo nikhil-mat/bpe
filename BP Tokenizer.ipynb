{
 "cells": [
  {
   "cell_type": "code",
   "execution_count": null,
   "id": "4180e0ab",
   "metadata": {},
   "outputs": [],
   "source": []
  },
  {
   "cell_type": "code",
   "execution_count": 1,
   "id": "c11c76d3",
   "metadata": {},
   "outputs": [],
   "source": [
    "demo_text = \"Ｕｎｉｃｏｄｅ! 🅤🅝🅘🅒🅞🅓🅔‽ 🇺‌🇳‌🇮‌🇨‌🇴‌🇩‌🇪! 😄 The very name strikes fear and awe into the hearts of programmers worldwide. We all know we ought to “support Unicode” in our software (whatever that means—like using wchar_t for all the strings, right?). But Unicode can be abstruse, and diving into the thousand-page Unicode Standard plus its dozens of supplementary annexes, reports, and notes can be more than a little intimidating. I don’t blame programmers for still finding the whole thing mysterious, even 30 years after Unicode’s inception.\""
   ]
  },
  {
   "cell_type": "code",
   "execution_count": 2,
   "id": "a6fd421b",
   "metadata": {},
   "outputs": [
    {
     "name": "stdout",
     "output_type": "stream",
     "text": [
      "<class 'bytes'>\n"
     ]
    }
   ],
   "source": [
    "unicode_ints = [ord(x) for x in demo_text] \n",
    "unicode_ints_bytewise = [int(x) for x in demo_text.encode('utf-8')]\n",
    "print(type(demo_text.encode('utf-8')))"
   ]
  },
  {
   "cell_type": "code",
   "execution_count": 3,
   "id": "c5cdd65b",
   "metadata": {},
   "outputs": [],
   "source": [
    "# print(demo_text)\n",
    "# print(\"normal length:\"+ str(len(demo_text)))\n",
    "# print(\"=======\")\n",
    "# print(unicode_ints)\n",
    "# print(\"unicode length:\"+ str(len(unicode_ints)))\n",
    "# print(\"=======\")\n",
    "# print(unicode_ints_bytewise)\n",
    "# print(\"unicode length:\"+ str(len(unicode_ints_bytewise)))"
   ]
  },
  {
   "cell_type": "code",
   "execution_count": 4,
   "id": "9705ba41",
   "metadata": {},
   "outputs": [],
   "source": [
    "def bpereplace(tokens,min_swap_occurance,replacements=[]):\n",
    "    count = {}\n",
    "    for x in range(len(tokens)-1):\n",
    "        item = (tokens[x],tokens[x+1])\n",
    "        if item in count:\n",
    "            count[item] += 1\n",
    "        else:\n",
    "            count[item] = 1\n",
    "            \n",
    "    replace_tokens = list(tokens)\n",
    "    for item in count.keys():\n",
    "        if count[item]>min_swap_occurance:\n",
    "            if item not in replacements:\n",
    "                replacepoint = len(replacements) + 256 ## 256 as now we are using asscii and orignal values will never be of size more than 255\n",
    "                replacements.append(item)\n",
    "            else:\n",
    "                replacepoint = replacements.index(item)+256\n",
    "#             print(replacements,end=\"\")\n",
    "#             print(\" Length: \"+str(count[item]))\n",
    "            stop_at = len(replace_tokens)-1\n",
    "            x=0\n",
    "            while x < stop_at:\n",
    "                tupl = (replace_tokens[x],replace_tokens[x+1])\n",
    "#                 print(tupl,end=\"Compare with\")\n",
    "#                 print(item)\n",
    "                if tupl == item:\n",
    "#                     print(\"Match now Replacing\")\n",
    "#                     print(replace_tokens[x],end = \" Is now being replace with \")\n",
    "#                     print(replacepoint,end=\" and \")\n",
    "                    replace_tokens[x] = replacepoint\n",
    "#                     print(replace_tokens[x+1],end=\" is now being removed.\")\n",
    "#                     print()\n",
    "                    replace_tokens.pop(x+1)\n",
    "                    stop_at -=1\n",
    "                x += 1\n",
    "#     print(\"Total replacements are :\",end=\"\")            \n",
    "#     print(replacements)\n",
    "#     print(replace_tokens)\n",
    "    print(\"length changed to \"+ str(len(replace_tokens))+\" from \"+str(len(tokens)))\n",
    "    return replace_tokens,replacements\n"
   ]
  },
  {
   "cell_type": "code",
   "execution_count": 5,
   "id": "4233773d",
   "metadata": {
    "scrolled": false
   },
   "outputs": [
    {
     "name": "stdout",
     "output_type": "stream",
     "text": [
      "length changed to 412 from 616\n",
      "length changed to 382 from 412\n",
      "length changed to 376 from 382\n",
      "length changed to 376 from 376\n",
      "length changed to 376 from 376\n",
      "length changed to 376 from 376\n",
      "79\n",
      "length changed to 376 from 376\n",
      "([239, 188, 181, 256, 142, 256, 137, 256, 131, 256, 143, 256, 132, 256, 133, 33, 257, 259, 164, 327, 157, 327, 152, 327, 146, 327, 158, 327, 147, 327, 148, 260, 189, 257, 261, 186, 334, 179, 334, 174, 334, 168, 334, 180, 334, 169, 334, 170, 33, 257, 159, 152, 132, 32, 84, 264, 32, 266, 114, 121, 32, 110, 268, 265, 271, 273, 107, 274, 276, 277, 279, 331, 280, 119, 265, 285, 287, 332, 32, 264, 278, 116, 275, 294, 295, 114, 111, 103, 114, 268, 109, 267, 275, 119, 298, 108, 100, 119, 105, 299, 300, 87, 265, 97, 301, 32, 107, 110, 111, 119, 297, 265, 303, 103, 104, 304, 287, 32, 260, 156, 115, 117, 112, 112, 111, 291, 305, 307, 309, 299, 260, 157, 284, 110, 293, 117, 114, 270, 294, 116, 119, 278, 265, 40, 119, 313, 315, 266, 279, 290, 97, 304, 269, 281, 115, 260, 148, 108, 105, 107, 265, 317, 333, 297, 99, 104, 278, 95, 116, 276, 111, 279, 97, 301, 332, 270, 272, 333, 320, 32, 273, 103, 104, 116, 63, 41, 300, 66, 117, 304, 306, 308, 310, 265, 99, 281, 322, 265, 97, 98, 271, 114, 317, 101, 44, 280, 282, 323, 105, 118, 333, 284, 286, 288, 116, 264, 289, 104, 303, 115, 331, 45, 112, 97, 103, 265, 306, 308, 310, 265, 83, 116, 331, 278, 283, 112, 108, 117, 275, 105, 116, 275, 100, 111, 122, 324, 275, 294, 270, 117, 112, 112, 325, 269, 286, 278, 121, 280, 110, 110, 101, 120, 274, 321, 312, 112, 111, 291, 320, 280, 282, 32, 110, 111, 116, 274, 32, 99, 281, 322, 265, 109, 298, 265, 290, 281, 280, 32, 108, 105, 116, 116, 108, 265, 285, 326, 109, 105, 100, 314, 333, 300, 73, 323, 111, 110, 260, 153, 304, 98, 108, 268, 265, 112, 114, 111, 103, 114, 268, 109, 267, 275, 102, 298, 270, 326, 301, 276, 105, 282, 333, 332, 297, 104, 111, 108, 265, 290, 333, 316, 121, 271, 267, 105, 303, 320, 32, 101, 266, 311, 51, 48, 32, 121, 277, 114, 275, 97, 102, 116, 267, 305, 307, 309, 299, 260, 153, 275, 285, 99, 101, 112, 326, 111, 110, 46], [(239, 189), (32, 240), (240, 159), (159, 133), (226, 128), (159, 135), (128, 140), (140, 240), (104, 101), (101, 32), (118, 101), (101, 114), (97, 109), (109, 101), (32, 115), (115, 116), (116, 114), (114, 105), (101, 115), (115, 32), (32, 102), (101, 97), (97, 114), (114, 32), (32, 97), (97, 110), (110, 100), (100, 32), (32, 105), (105, 110), (110, 116), (116, 111), (111, 32), (32, 116), (116, 104), (114, 116), (116, 115), (32, 111), (111, 102), (32, 112), (114, 115), (32, 119), (111, 114), (100, 101), (46, 32), (108, 108), (108, 32), (111, 117), (116, 32), (32, 85), (85, 110), (110, 105), (105, 99), (99, 111), (111, 100), (110, 32), (114, 101), (104, 97), (97, 116), (116, 101), (32, 109), (117, 115), (110, 103), (103, 32), (115, 44), (44, 32), (32, 98), (32, 100), (101, 110), (108, 101), (116, 105), (258, 133), (260, 140), (140, 258), (258, 135), (281, 100), (289, 264), (285, 103), (328, 330)])\n"
     ]
    }
   ],
   "source": []
  },
  {
   "cell_type": "code",
   "execution_count": null,
   "id": "05b954db",
   "metadata": {},
   "outputs": [],
   "source": []
  }
 ],
 "metadata": {
  "kernelspec": {
   "display_name": "Python [conda env:.conda-micrograd-sc]",
   "language": "python",
   "name": "conda-env-.conda-micrograd-sc-py"
  },
  "language_info": {
   "codemirror_mode": {
    "name": "ipython",
    "version": 3
   },
   "file_extension": ".py",
   "mimetype": "text/x-python",
   "name": "python",
   "nbconvert_exporter": "python",
   "pygments_lexer": "ipython3",
   "version": "3.11.0"
  }
 },
 "nbformat": 4,
 "nbformat_minor": 5
}
